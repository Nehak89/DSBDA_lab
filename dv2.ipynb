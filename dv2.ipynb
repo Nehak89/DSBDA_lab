{
 "cells": [
  {
   "cell_type": "code",
   "execution_count": 5,
   "id": "65fc72ab",
   "metadata": {},
   "outputs": [],
   "source": [
    "import pandas as pd\n",
    "import numpy as np\n",
    "import matplotlib.pyplot as plt\n",
    "import warnings\n",
    "warnings.filterwarnings('ignore')\n",
    "df=pd.read_csv(\"/home/student/Documents/covid_data.csv\")\n",
    "#covid_data = pd.DataFrame(df)"
   ]
  },
  {
   "cell_type": "code",
   "execution_count": 3,
   "id": "2b91c31e",
   "metadata": {},
   "outputs": [
    {
     "data": {
      "text/html": [
       "<div>\n",
       "<style scoped>\n",
       "    .dataframe tbody tr th:only-of-type {\n",
       "        vertical-align: middle;\n",
       "    }\n",
       "\n",
       "    .dataframe tbody tr th {\n",
       "        vertical-align: top;\n",
       "    }\n",
       "\n",
       "    .dataframe thead th {\n",
       "        text-align: right;\n",
       "    }\n",
       "</style>\n",
       "<table border=\"1\" class=\"dataframe\">\n",
       "  <thead>\n",
       "    <tr style=\"text-align: right;\">\n",
       "      <th></th>\n",
       "      <th>city</th>\n",
       "      <th>age</th>\n",
       "      <th>sex</th>\n",
       "      <th>symptoms</th>\n",
       "      <th>state</th>\n",
       "      <th>Blood Type</th>\n",
       "      <th>Smoker</th>\n",
       "    </tr>\n",
       "  </thead>\n",
       "  <tbody>\n",
       "    <tr>\n",
       "      <th>0</th>\n",
       "      <td>Pune</td>\n",
       "      <td>20</td>\n",
       "      <td>F</td>\n",
       "      <td>slight</td>\n",
       "      <td>Maharashtra</td>\n",
       "      <td>A+</td>\n",
       "      <td>0</td>\n",
       "    </tr>\n",
       "    <tr>\n",
       "      <th>1</th>\n",
       "      <td>Nagpur</td>\n",
       "      <td>21</td>\n",
       "      <td>M</td>\n",
       "      <td>decreased</td>\n",
       "      <td>Maharashtra</td>\n",
       "      <td>O+</td>\n",
       "      <td>1</td>\n",
       "    </tr>\n",
       "    <tr>\n",
       "      <th>2</th>\n",
       "      <td>Nashik</td>\n",
       "      <td>19</td>\n",
       "      <td>F</td>\n",
       "      <td>high</td>\n",
       "      <td>Maharashtra</td>\n",
       "      <td>A-</td>\n",
       "      <td>1</td>\n",
       "    </tr>\n",
       "    <tr>\n",
       "      <th>3</th>\n",
       "      <td>Nanded</td>\n",
       "      <td>22</td>\n",
       "      <td>M</td>\n",
       "      <td>high</td>\n",
       "      <td>Maharashtra</td>\n",
       "      <td>B+</td>\n",
       "      <td>0</td>\n",
       "    </tr>\n",
       "    <tr>\n",
       "      <th>4</th>\n",
       "      <td>Kolhapur</td>\n",
       "      <td>23</td>\n",
       "      <td>M</td>\n",
       "      <td>slight</td>\n",
       "      <td>Maharashtra</td>\n",
       "      <td>AB+</td>\n",
       "      <td>0</td>\n",
       "    </tr>\n",
       "  </tbody>\n",
       "</table>\n",
       "</div>"
      ],
      "text/plain": [
       "       city  age sex   symptoms        state Blood Type  Smoker\n",
       "0      Pune   20   F     slight  Maharashtra         A+       0\n",
       "1    Nagpur   21   M  decreased  Maharashtra         O+       1\n",
       "2    Nashik   19   F       high  Maharashtra         A-       1\n",
       "3    Nanded   22   M       high  Maharashtra         B+       0\n",
       "4  Kolhapur   23   M     slight  Maharashtra        AB+       0"
      ]
     },
     "execution_count": 3,
     "metadata": {},
     "output_type": "execute_result"
    }
   ],
   "source": [
    "df.head()"
   ]
  },
  {
   "cell_type": "code",
   "execution_count": 7,
   "id": "1e83b2f1",
   "metadata": {},
   "outputs": [
    {
     "data": {
      "text/plain": [
       "Text(0.5, 1.0, 'Boxplot:Age VS Sex')"
      ]
     },
     "execution_count": 7,
     "metadata": {},
     "output_type": "execute_result"
    },
    {
     "data": {
      "image/png": "[encoded data removed]",
      "text/plain": [
       "<Figure size 720x360 with 1 Axes>"
      ]
     },
     "metadata": {
      "needs_background": "light"
     },
     "output_type": "display_data"
    }
   ],
   "source": [
    "ax=df.boxplot(column='age',by='sex',figsize=(10,5))\n",
    "ax.set_ylabel('age')\n",
    "ax.set_title(\"Boxplot:Age VS Sex\")"
   ]
  },
  {
   "cell_type": "code",
   "execution_count": 8,
   "id": "d9ff98be",
   "metadata": {},
   "outputs": [
    {
     "data": {
      "text/plain": [
       "Text(0.5, 1.0, 'Boxplot:Age VS Smoker')"
      ]
     },
     "execution_count": 8,
     "metadata": {},
     "output_type": "execute_result"
    },
    {
     "data": {
      "image/png": "[encoded data removed]",
      "text/plain": [
       "<Figure size 720x360 with 1 Axes>"
      ]
     },
     "metadata": {
      "needs_background": "light"
     },
     "output_type": "display_data"
    }
   ],
   "source": [
    "ax=df.boxplot(column='age',by='Smoker',figsize=(10,5))\n",
    "ax.set_ylabel('age')\n",
    "ax.set_title(\"Boxplot:Age VS Smoker\")"
   ]
  },
  {
   "cell_type": "code",
   "execution_count": 12,
   "id": "79a43561",
   "metadata": {},
   "outputs": [
    {
     "data": {
      "text/plain": [
       "'0-NON smoker,1-smoker'"
      ]
     },
     "execution_count": 12,
     "metadata": {},
     "output_type": "execute_result"
    },
    {
     "data": {
      "image/png": "[encoded data removed]",
      "text/plain": [
       "<Figure size 720x360 with 1 Axes>"
      ]
     },
     "metadata": {
      "needs_background": "light"
     },
     "output_type": "display_data"
    }
   ],
   "source": [
    "ax=df.boxplot(column='age',by=['sex','Smoker'],figsize=(10,5))\n",
    "ax.set_ylabel('sex')\n",
    "ax.set_title(\"Boxplot:Sex VS Smoker\")\n",
    "\"\"\"0-NON smoker,1-smoker\"\"\""
   ]
  },
  {
   "cell_type": "code",
   "execution_count": null,
   "id": "dab80082",
   "metadata": {},
   "outputs": [],
   "source": []
  }
 ],
 "metadata": {
  "kernelspec": {
   "display_name": "Python 3 (ipykernel)",
   "language": "python",
   "name": "python3"
  },
  "language_info": {
   "codemirror_mode": {
    "name": "ipython",
    "version": 3
   },
   "file_extension": ".py",
   "mimetype": "text/x-python",
   "name": "python",
   "nbconvert_exporter": "python",
   "pygments_lexer": "ipython3",
   "version": "3.10.12"
  }
 },
 "nbformat": 4,
 "nbformat_minor": 5
}
